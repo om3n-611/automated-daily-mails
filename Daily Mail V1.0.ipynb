{
 "cells": [
  {
   "cell_type": "code",
   "execution_count": 1,
   "id": "2cd1c5fe",
   "metadata": {},
   "outputs": [],
   "source": [
    "import os\n",
    "import win32com.client as w32\n",
    "import psutil\n",
    "import pandas as pd\n",
    "import csv"
   ]
  },
  {
   "cell_type": "code",
   "execution_count": 2,
   "id": "3c7ccfbd",
   "metadata": {},
   "outputs": [],
   "source": [
    "def refresh_excel():\n",
    "    xl = w32.DispatchEx('Excel.Application')\n",
    "    wb = xl.workbooks.open(\"path to file\")\n",
    "    wb.refreshall()\n",
    "    xl.CalculateUntilAsyncQueriesDone()\n",
    "    wb.Save()\n",
    "    xl.quit()"
   ]
  },
  {
   "cell_type": "code",
   "execution_count": 3,
   "id": "e7f6a430",
   "metadata": {},
   "outputs": [],
   "source": [
    "def write_excel():\n",
    "    doc = pd.read_excel(\"path to file\",sheet_name=1)\n",
    "    doc.to_excel('file name.xlsx',sheet_name='choose a name or make it default',index=False)"
   ]
  },
  {
   "cell_type": "code",
   "execution_count": 4,
   "id": "b3d0ae6a",
   "metadata": {},
   "outputs": [],
   "source": [
    "def is_outlook_running():\n",
    "    \"\"\"This verifies that outlook is actually running and creates a new instance if it isnt\"\"\"\n",
    "    for p in psutil.process_iter(attrs=['pid', 'name']):\n",
    "        if \"OUTLOOK.EXE\" in p.info['name']:\n",
    "            print(\"Yes\", p.info['name'], \"is running\")\n",
    "            break\n",
    "    else:\n",
    "        print(\"No, Outlook is not running\")\n",
    "        os.startfile(\"outlook\")\n",
    "        print(\"Outlook is starting now...\")"
   ]
  },
  {
   "cell_type": "code",
   "execution_count": 5,
   "id": "f8737065",
   "metadata": {},
   "outputs": [],
   "source": [
    "def write_email():\n",
    "    #connecting to email program\n",
    "    M = w32.Dispatch(\"Outlook.Application\")\n",
    "    mail = M.CreateItem(0)\n",
    "    mail.To = 'email@domain'\n",
    "    mail.Subject = 'Create your subject here'\n",
    "    mail.Body = \"Good Day \\n\\nThis is the testing for phase 1.\\n\\nShould this be a success I can move to phase 2.\\n\\nRegards\"\n",
    "    mail.Attachments.Add(\"path to file for attachement\")\n",
    "    mail.send"
   ]
  },
  {
   "cell_type": "code",
   "execution_count": 6,
   "id": "95b27110",
   "metadata": {},
   "outputs": [],
   "source": [
    "def send_daily_mail():\n",
    "    refresh_excel()\n",
    "    write_excel()\n",
    "    is_outlook_running()\n",
    "    write_email()"
   ]
  },
  {
   "cell_type": "code",
   "execution_count": null,
   "id": "35cf4665",
   "metadata": {},
   "outputs": [],
   "source": [
    "send_daily_mail()"
   ]
  }
 ],
 "metadata": {
  "kernelspec": {
   "display_name": "Python 3",
   "language": "python",
   "name": "python3"
  },
  "language_info": {
   "codemirror_mode": {
    "name": "ipython",
    "version": 3
   },
   "file_extension": ".py",
   "mimetype": "text/x-python",
   "name": "python",
   "nbconvert_exporter": "python",
   "pygments_lexer": "ipython3",
   "version": "3.8.8"
  }
 },
 "nbformat": 4,
 "nbformat_minor": 5
}
